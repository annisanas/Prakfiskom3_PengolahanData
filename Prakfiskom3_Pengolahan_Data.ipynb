{
  "nbformat": 4,
  "nbformat_minor": 0,
  "metadata": {
    "colab": {
      "provenance": []
    },
    "kernelspec": {
      "name": "python3",
      "display_name": "Python 3"
    },
    "language_info": {
      "name": "python"
    }
  },
  "cells": [
    {
      "cell_type": "code",
      "execution_count": 4,
      "metadata": {
        "colab": {
          "base_uri": "https://localhost:8080/"
        },
        "id": "5g8yeI04bgtf",
        "outputId": "6f3a2f2b-c011-4224-e5d5-12ba2b8775b7"
      },
      "outputs": [
        {
          "output_type": "stream",
          "name": "stdout",
          "text": [
            "Index(['Unnamed: 0', 'No', 'Nama', 'Nilai'], dtype='object')\n",
            "       Unnamed: 0        No      Nilai\n",
            "count         0.0  20.00000   20.00000\n",
            "mean          NaN  10.50000   96.00000\n",
            "std           NaN   5.91608    7.53937\n",
            "min           NaN   1.00000   75.00000\n",
            "25%           NaN   5.75000   97.50000\n",
            "50%           NaN  10.50000  100.00000\n",
            "75%           NaN  15.25000  100.00000\n",
            "max           NaN  20.00000  100.00000\n",
            "   Unnamed: 0  No               Nama  Nilai\n",
            "0         NaN   1    Arina Deliafaza    100\n",
            "1         NaN   2    Galan Bagaskara     90\n",
            "2         NaN   3    Kalista Wallace    100\n",
            "3         NaN   4    Nathan Delogard    100\n",
            "4         NaN   5  Lyra Shannon Cole     85\n",
            "    Unnamed: 0  No                  Nama  Nilai\n",
            "15         NaN  16      Jeihan Bramantyo    100\n",
            "16         NaN  17       Zahara Natasya     100\n",
            "17         NaN  18        Bianca Azarine    100\n",
            "18         NaN  19  Reiza Gineng Prayuda    100\n",
            "19         NaN  20      Panji Baharrudin    100\n",
            "   x         y         z\n",
            "0  0  0.000000  1.000000\n",
            "1  1  0.841471  0.540302\n",
            "2  2  0.909297 -0.416147\n",
            "3  3  0.141120 -0.989992\n",
            "4  4 -0.756802 -0.653644\n",
            "5  5 -0.958924  0.283662\n",
            "6  6 -0.279415  0.960170\n"
          ]
        }
      ],
      "source": [
        "import pandas as pd\n",
        "import numpy as np\n",
        "import requests\n",
        "import io\n",
        "\n",
        "Nilai = ['100', '90', '100','...']\n",
        "Nama = ['Arina Deliafaza', 'Galan Bagaskara', 'Kalista Wallace','...']\n",
        "df = pd.DataFrame({\n",
        "    'Nilai': Nilai,\n",
        "    'Nama': Nama,\n",
        "})\n",
        "\n",
        "url = \"https://github.com/annisanas/Prakfiskom3_PengolahanData/raw/main/Rekapitulasi%20Nilai%20Kuis%20Rapat%20Aliran%20Energi.xlsx\"\n",
        "response = requests.get(url)\n",
        "\n",
        "if response.status_code == 200:\n",
        "    database = pd.read_excel(io.BytesIO(response.content))\n",
        "    print(database.columns)\n",
        "    print(database.describe())\n",
        "    print(database.head())\n",
        "    print(database.tail())\n",
        "else:\n",
        "    print(\"Failed to download the file. Status code:\", response.status_code)\n",
        "\n",
        "x = [i for i in range(0, 7)]\n",
        "y = np.sin(x)\n",
        "\n",
        "dataframe = pd.DataFrame({\n",
        "    'x': x,\n",
        "    'y': y\n",
        "})\n",
        "dataframe['z'] = np.cos(x)\n",
        "\n",
        "print(dataframe)\n",
        "\n",
        "\n"
      ]
    }
  ]
}